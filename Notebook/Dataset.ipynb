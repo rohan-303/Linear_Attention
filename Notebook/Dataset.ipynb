{
 "cells": [
  {
   "cell_type": "code",
   "execution_count": 2,
   "id": "7924dbdd",
   "metadata": {},
   "outputs": [
    {
     "name": "stderr",
     "output_type": "stream",
     "text": [
      "/home/careinfolab/Dr_Luo/Rohan/rohanj/lib/python3.8/site-packages/tqdm/auto.py:21: TqdmWarning: IProgress not found. Please update jupyter and ipywidgets. See https://ipywidgets.readthedocs.io/en/stable/user_install.html\n",
      "  from .autonotebook import tqdm as notebook_tqdm\n"
     ]
    }
   ],
   "source": [
    "from datasets import load_dataset\n",
    "import pandas as pd\n",
    "from tokenizers import Tokenizer, models, pre_tokenizers, trainers, processors\n",
    "from tokenizers.normalizers import NFKC\n",
    "from tokenizers.pre_tokenizers import Whitespace\n",
    "from tokenizers.models import BPE\n",
    "from transformers import AutoTokenizer\n",
    "import matplotlib.pyplot as plt\n",
    "import re"
   ]
  },
  {
   "cell_type": "code",
   "execution_count": 22,
   "id": "7aa3a512",
   "metadata": {},
   "outputs": [],
   "source": [
    "ds = load_dataset(\"damerajee/english-to-hindi-l\")"
   ]
  },
  {
   "cell_type": "code",
   "execution_count": 1,
   "id": "73f2f635",
   "metadata": {},
   "outputs": [
    {
     "ename": "NameError",
     "evalue": "name 'ds' is not defined",
     "output_type": "error",
     "traceback": [
      "\u001b[0;31m---------------------------------------------------------------------------\u001b[0m",
      "\u001b[0;31mNameError\u001b[0m                                 Traceback (most recent call last)",
      "Cell \u001b[0;32mIn[1], line 1\u001b[0m\n\u001b[0;32m----> 1\u001b[0m \u001b[43mds\u001b[49m[\u001b[38;5;124m'\u001b[39m\u001b[38;5;124mtrain\u001b[39m\u001b[38;5;124m'\u001b[39m]\u001b[38;5;241m.\u001b[39mto_csv(\u001b[38;5;124m'\u001b[39m\u001b[38;5;124m/home/careinfolab/Dr_Luo/Rohan/Linear_Attention/Dataset/eng_hindi.csv\u001b[39m\u001b[38;5;124m'\u001b[39m, index\u001b[38;5;241m=\u001b[39m\u001b[38;5;28;01mFalse\u001b[39;00m)\n",
      "\u001b[0;31mNameError\u001b[0m: name 'ds' is not defined"
     ]
    }
   ],
   "source": [
    "ds['train'].to_csv('/home/careinfolab/Dr_Luo/Rohan/Linear_Attention/Dataset/eng_hindi.csv', index=False)"
   ]
  },
  {
   "cell_type": "code",
   "execution_count": 3,
   "id": "aa847441",
   "metadata": {},
   "outputs": [],
   "source": [
    "df = pd.read_csv('/home/careinfolab/Dr_Luo/Rohan/Linear_Attention/Dataset/eng_hindi.csv')"
   ]
  },
  {
   "cell_type": "code",
   "execution_count": 4,
   "id": "369dd75c",
   "metadata": {},
   "outputs": [
    {
     "data": {
      "text/html": [
       "<div>\n",
       "<style scoped>\n",
       "    .dataframe tbody tr th:only-of-type {\n",
       "        vertical-align: middle;\n",
       "    }\n",
       "\n",
       "    .dataframe tbody tr th {\n",
       "        vertical-align: top;\n",
       "    }\n",
       "\n",
       "    .dataframe thead th {\n",
       "        text-align: right;\n",
       "    }\n",
       "</style>\n",
       "<table border=\"1\" class=\"dataframe\">\n",
       "  <thead>\n",
       "    <tr style=\"text-align: right;\">\n",
       "      <th></th>\n",
       "      <th>english_sentence</th>\n",
       "      <th>hindi_sentence</th>\n",
       "    </tr>\n",
       "  </thead>\n",
       "  <tbody>\n",
       "    <tr>\n",
       "      <th>count</th>\n",
       "      <td>1786064</td>\n",
       "      <td>1780733</td>\n",
       "    </tr>\n",
       "    <tr>\n",
       "      <th>unique</th>\n",
       "      <td>1165072</td>\n",
       "      <td>1145927</td>\n",
       "    </tr>\n",
       "    <tr>\n",
       "      <th>top</th>\n",
       "      <td>(Laughter)</td>\n",
       "      <td>Name</td>\n",
       "    </tr>\n",
       "    <tr>\n",
       "      <th>freq</th>\n",
       "      <td>615</td>\n",
       "      <td>1093</td>\n",
       "    </tr>\n",
       "  </tbody>\n",
       "</table>\n",
       "</div>"
      ],
      "text/plain": [
       "       english_sentence hindi_sentence\n",
       "count           1786064        1780733\n",
       "unique          1165072        1145927\n",
       "top          (Laughter)           Name\n",
       "freq                615           1093"
      ]
     },
     "execution_count": 4,
     "metadata": {},
     "output_type": "execute_result"
    }
   ],
   "source": [
    "df.describe()"
   ]
  },
  {
   "cell_type": "code",
   "execution_count": 5,
   "id": "1599dd22",
   "metadata": {},
   "outputs": [
    {
     "data": {
      "text/html": [
       "<div>\n",
       "<style scoped>\n",
       "    .dataframe tbody tr th:only-of-type {\n",
       "        vertical-align: middle;\n",
       "    }\n",
       "\n",
       "    .dataframe tbody tr th {\n",
       "        vertical-align: top;\n",
       "    }\n",
       "\n",
       "    .dataframe thead th {\n",
       "        text-align: right;\n",
       "    }\n",
       "</style>\n",
       "<table border=\"1\" class=\"dataframe\">\n",
       "  <thead>\n",
       "    <tr style=\"text-align: right;\">\n",
       "      <th></th>\n",
       "      <th>english_sentence</th>\n",
       "      <th>hindi_sentence</th>\n",
       "    </tr>\n",
       "  </thead>\n",
       "  <tbody>\n",
       "    <tr>\n",
       "      <th>0</th>\n",
       "      <td>When it is said to him: 'Fear Allah' egotism t...</td>\n",
       "      <td>और जब उससे कहा जाता है, \"अल्लाह से डर\", तो अहं...</td>\n",
       "    </tr>\n",
       "    <tr>\n",
       "      <th>1</th>\n",
       "      <td>This profile exists already.</td>\n",
       "      <td>यह प्रोफ़ाइल पहले से ही है.</td>\n",
       "    </tr>\n",
       "    <tr>\n",
       "      <th>2</th>\n",
       "      <td>Halo with Ornamental Borde</td>\n",
       "      <td>विवरण: एक पारंपरिक कमल के फूल के साथ पत्थर की ...</td>\n",
       "    </tr>\n",
       "    <tr>\n",
       "      <th>3</th>\n",
       "      <td>and the jinn We had created before from flamin...</td>\n",
       "      <td>और हम ही ने जिन्नात को आदमी से (भी) पहले वे धु...</td>\n",
       "    </tr>\n",
       "    <tr>\n",
       "      <th>4</th>\n",
       "      <td>Ladies and Gentlemen, the Government of India ...</td>\n",
       "      <td>शहरीकरण की तेज गति के साथ अवसंरचना और सेवाओं क...</td>\n",
       "    </tr>\n",
       "    <tr>\n",
       "      <th>5</th>\n",
       "      <td>Have you then considered Al - Lat, and Al - 'U...</td>\n",
       "      <td>तो क्या तुमने लात और उज़्ज़ा</td>\n",
       "    </tr>\n",
       "    <tr>\n",
       "      <th>6</th>\n",
       "      <td>Escalation in demand will provide traders an o...</td>\n",
       "      <td>मांग में वृद्धि व्यापारियों को कीमतें बढाने का...</td>\n",
       "    </tr>\n",
       "    <tr>\n",
       "      <th>7</th>\n",
       "      <td>He understood the pity and the beauty of life ...</td>\n",
       "      <td>वे जीवन में अनुकम्पा और सौन्दर्य के महत्व को स...</td>\n",
       "    </tr>\n",
       "    <tr>\n",
       "      <th>8</th>\n",
       "      <td>Fast Track Court - The Additional Sessions Cou...</td>\n",
       "      <td>फास्ट ट्रेक कोर्ट-ये अतिरिक्त सत्र न्यायालय है...</td>\n",
       "    </tr>\n",
       "    <tr>\n",
       "      <th>9</th>\n",
       "      <td>He was working as a quality controller in the ...</td>\n",
       "      <td>वह खाद्य उत्पादन कारखाने में गुणवत्ता नियंत्रक...</td>\n",
       "    </tr>\n",
       "  </tbody>\n",
       "</table>\n",
       "</div>"
      ],
      "text/plain": [
       "                                    english_sentence  \\\n",
       "0  When it is said to him: 'Fear Allah' egotism t...   \n",
       "1                       This profile exists already.   \n",
       "2                         Halo with Ornamental Borde   \n",
       "3  and the jinn We had created before from flamin...   \n",
       "4  Ladies and Gentlemen, the Government of India ...   \n",
       "5  Have you then considered Al - Lat, and Al - 'U...   \n",
       "6  Escalation in demand will provide traders an o...   \n",
       "7  He understood the pity and the beauty of life ...   \n",
       "8  Fast Track Court - The Additional Sessions Cou...   \n",
       "9  He was working as a quality controller in the ...   \n",
       "\n",
       "                                      hindi_sentence  \n",
       "0  और जब उससे कहा जाता है, \"अल्लाह से डर\", तो अहं...  \n",
       "1                       यह प्रोफ़ाइल पहले से ही है.   \n",
       "2  विवरण: एक पारंपरिक कमल के फूल के साथ पत्थर की ...  \n",
       "3  और हम ही ने जिन्नात को आदमी से (भी) पहले वे धु...  \n",
       "4  शहरीकरण की तेज गति के साथ अवसंरचना और सेवाओं क...  \n",
       "5                       तो क्या तुमने लात और उज़्ज़ा  \n",
       "6  मांग में वृद्धि व्यापारियों को कीमतें बढाने का...  \n",
       "7  वे जीवन में अनुकम्पा और सौन्दर्य के महत्व को स...  \n",
       "8  फास्ट ट्रेक कोर्ट-ये अतिरिक्त सत्र न्यायालय है...  \n",
       "9  वह खाद्य उत्पादन कारखाने में गुणवत्ता नियंत्रक...  "
      ]
     },
     "execution_count": 5,
     "metadata": {},
     "output_type": "execute_result"
    }
   ],
   "source": [
    "df.head(10)"
   ]
  },
  {
   "cell_type": "code",
   "execution_count": 6,
   "id": "3f60312c",
   "metadata": {},
   "outputs": [
    {
     "data": {
      "text/plain": [
       "english_sentence     724\n",
       "hindi_sentence      6055\n",
       "dtype: int64"
      ]
     },
     "execution_count": 6,
     "metadata": {},
     "output_type": "execute_result"
    }
   ],
   "source": [
    "df.isna().sum()"
   ]
  },
  {
   "cell_type": "code",
   "execution_count": 7,
   "id": "f75427eb",
   "metadata": {},
   "outputs": [
    {
     "name": "stdout",
     "output_type": "stream",
     "text": [
      "english_sentence    0\n",
      "hindi_sentence      0\n",
      "dtype: int64\n",
      "                                    english_sentence  \\\n",
      "0  When it is said to him: 'Fear Allah' egotism t...   \n",
      "1                       This profile exists already.   \n",
      "2                         Halo with Ornamental Borde   \n",
      "3  and the jinn We had created before from flamin...   \n",
      "4  Ladies and Gentlemen, the Government of India ...   \n",
      "5  Have you then considered Al - Lat, and Al - 'U...   \n",
      "6  Escalation in demand will provide traders an o...   \n",
      "7  He understood the pity and the beauty of life ...   \n",
      "8  Fast Track Court - The Additional Sessions Cou...   \n",
      "9  He was working as a quality controller in the ...   \n",
      "\n",
      "                                      hindi_sentence  \n",
      "0  और जब उससे कहा जाता है, \"अल्लाह से डर\", तो अहं...  \n",
      "1                       यह प्रोफ़ाइल पहले से ही है.   \n",
      "2  विवरण: एक पारंपरिक कमल के फूल के साथ पत्थर की ...  \n",
      "3  और हम ही ने जिन्नात को आदमी से (भी) पहले वे धु...  \n",
      "4  शहरीकरण की तेज गति के साथ अवसंरचना और सेवाओं क...  \n",
      "5                       तो क्या तुमने लात और उज़्ज़ा  \n",
      "6  मांग में वृद्धि व्यापारियों को कीमतें बढाने का...  \n",
      "7  वे जीवन में अनुकम्पा और सौन्दर्य के महत्व को स...  \n",
      "8  फास्ट ट्रेक कोर्ट-ये अतिरिक्त सत्र न्यायालय है...  \n",
      "9  वह खाद्य उत्पादन कारखाने में गुणवत्ता नियंत्रक...  \n"
     ]
    }
   ],
   "source": [
    "df = df[df['english_sentence'].apply(lambda x: isinstance(x, str)) & df['hindi_sentence'].apply(lambda x: isinstance(x, str))]\n",
    "print(df.isna().sum())\n",
    "print(df[['english_sentence', 'hindi_sentence']].head(10))\n"
   ]
  },
  {
   "cell_type": "code",
   "execution_count": 8,
   "id": "6d61febb",
   "metadata": {},
   "outputs": [],
   "source": [
    "def clean_text(text):\n",
    "    text = re.sub(r'\\s+', ' ', text)  \n",
    "    text = re.sub(r'[^\\w\\s]', '', text) \n",
    "    return text.strip()"
   ]
  },
  {
   "cell_type": "code",
   "execution_count": 9,
   "id": "303f9a5f",
   "metadata": {},
   "outputs": [],
   "source": [
    "df['english_sentence'] = df['english_sentence'].apply(clean_text)\n",
    "df['hindi_sentence'] = df['hindi_sentence'].apply(clean_text)"
   ]
  },
  {
   "cell_type": "code",
   "execution_count": 10,
   "id": "f604148a",
   "metadata": {},
   "outputs": [
    {
     "data": {
      "text/html": [
       "<div>\n",
       "<style scoped>\n",
       "    .dataframe tbody tr th:only-of-type {\n",
       "        vertical-align: middle;\n",
       "    }\n",
       "\n",
       "    .dataframe tbody tr th {\n",
       "        vertical-align: top;\n",
       "    }\n",
       "\n",
       "    .dataframe thead th {\n",
       "        text-align: right;\n",
       "    }\n",
       "</style>\n",
       "<table border=\"1\" class=\"dataframe\">\n",
       "  <thead>\n",
       "    <tr style=\"text-align: right;\">\n",
       "      <th></th>\n",
       "      <th>english_sentence</th>\n",
       "      <th>hindi_sentence</th>\n",
       "    </tr>\n",
       "  </thead>\n",
       "  <tbody>\n",
       "    <tr>\n",
       "      <th>0</th>\n",
       "      <td>When it is said to him Fear Allah egotism take...</td>\n",
       "      <td>और जब उसस कह जत ह अललह स डर त अहकर उस और गनह प...</td>\n",
       "    </tr>\n",
       "    <tr>\n",
       "      <th>1</th>\n",
       "      <td>This profile exists already</td>\n",
       "      <td>यह परफइल पहल स ह ह</td>\n",
       "    </tr>\n",
       "    <tr>\n",
       "      <th>2</th>\n",
       "      <td>Halo with Ornamental Borde</td>\n",
       "      <td>ववरण एक परपरक कमल क फल क सथ पतथर क पटय उस पर ख...</td>\n",
       "    </tr>\n",
       "    <tr>\n",
       "      <th>3</th>\n",
       "      <td>and the jinn We had created before from flamin...</td>\n",
       "      <td>और हम ह न जननत क आदम स भ पहल व धए क तज आग स पद कय</td>\n",
       "    </tr>\n",
       "    <tr>\n",
       "      <th>4</th>\n",
       "      <td>Ladies and Gentlemen the Government of India p...</td>\n",
       "      <td>शहरकरण क तज गत क सथ अवसरचन और सवओ क नरमण म रजय...</td>\n",
       "    </tr>\n",
       "    <tr>\n",
       "      <th>5</th>\n",
       "      <td>Have you then considered Al  Lat and Al  Uzza ...</td>\n",
       "      <td>त कय तमन लत और उजज</td>\n",
       "    </tr>\n",
       "    <tr>\n",
       "      <th>6</th>\n",
       "      <td>Escalation in demand will provide traders an o...</td>\n",
       "      <td>मग म वदध वयपरय क कमत बढन क अवसर परदन करत ह</td>\n",
       "    </tr>\n",
       "    <tr>\n",
       "      <th>7</th>\n",
       "      <td>He understood the pity and the beauty of life ...</td>\n",
       "      <td>व जवन म अनकमप और सनदरय क महतव क समझत थ और सवय ...</td>\n",
       "    </tr>\n",
       "    <tr>\n",
       "      <th>8</th>\n",
       "      <td>Fast Track Court  The Additional Sessions Cour...</td>\n",
       "      <td>फसट टरक करटय अतरकत सतर नययलय ह इनक गठन दरघवध स...</td>\n",
       "    </tr>\n",
       "    <tr>\n",
       "      <th>9</th>\n",
       "      <td>He was working as a quality controller in the ...</td>\n",
       "      <td>वह खदय उतपदन करखन म गणवतत नयतरक क तर पर करय कर...</td>\n",
       "    </tr>\n",
       "  </tbody>\n",
       "</table>\n",
       "</div>"
      ],
      "text/plain": [
       "                                    english_sentence  \\\n",
       "0  When it is said to him Fear Allah egotism take...   \n",
       "1                        This profile exists already   \n",
       "2                         Halo with Ornamental Borde   \n",
       "3  and the jinn We had created before from flamin...   \n",
       "4  Ladies and Gentlemen the Government of India p...   \n",
       "5  Have you then considered Al  Lat and Al  Uzza ...   \n",
       "6  Escalation in demand will provide traders an o...   \n",
       "7  He understood the pity and the beauty of life ...   \n",
       "8  Fast Track Court  The Additional Sessions Cour...   \n",
       "9  He was working as a quality controller in the ...   \n",
       "\n",
       "                                      hindi_sentence  \n",
       "0  और जब उसस कह जत ह अललह स डर त अहकर उस और गनह प...  \n",
       "1                                 यह परफइल पहल स ह ह  \n",
       "2  ववरण एक परपरक कमल क फल क सथ पतथर क पटय उस पर ख...  \n",
       "3  और हम ह न जननत क आदम स भ पहल व धए क तज आग स पद कय  \n",
       "4  शहरकरण क तज गत क सथ अवसरचन और सवओ क नरमण म रजय...  \n",
       "5                                 त कय तमन लत और उजज  \n",
       "6         मग म वदध वयपरय क कमत बढन क अवसर परदन करत ह  \n",
       "7  व जवन म अनकमप और सनदरय क महतव क समझत थ और सवय ...  \n",
       "8  फसट टरक करटय अतरकत सतर नययलय ह इनक गठन दरघवध स...  \n",
       "9  वह खदय उतपदन करखन म गणवतत नयतरक क तर पर करय कर...  "
      ]
     },
     "execution_count": 10,
     "metadata": {},
     "output_type": "execute_result"
    }
   ],
   "source": [
    "df[['english_sentence', 'hindi_sentence']].head(10)"
   ]
  },
  {
   "cell_type": "code",
   "execution_count": 11,
   "id": "332fe84a",
   "metadata": {},
   "outputs": [
    {
     "data": {
      "text/html": [
       "<div>\n",
       "<style scoped>\n",
       "    .dataframe tbody tr th:only-of-type {\n",
       "        vertical-align: middle;\n",
       "    }\n",
       "\n",
       "    .dataframe tbody tr th {\n",
       "        vertical-align: top;\n",
       "    }\n",
       "\n",
       "    .dataframe thead th {\n",
       "        text-align: right;\n",
       "    }\n",
       "</style>\n",
       "<table border=\"1\" class=\"dataframe\">\n",
       "  <thead>\n",
       "    <tr style=\"text-align: right;\">\n",
       "      <th></th>\n",
       "      <th>english_sentence</th>\n",
       "      <th>hindi_sentence</th>\n",
       "    </tr>\n",
       "  </thead>\n",
       "  <tbody>\n",
       "    <tr>\n",
       "      <th>count</th>\n",
       "      <td>1780675</td>\n",
       "      <td>1780675</td>\n",
       "    </tr>\n",
       "    <tr>\n",
       "      <th>unique</th>\n",
       "      <td>1129342</td>\n",
       "      <td>1007644</td>\n",
       "    </tr>\n",
       "    <tr>\n",
       "      <th>top</th>\n",
       "      <td>Laughter</td>\n",
       "      <td>Name</td>\n",
       "    </tr>\n",
       "    <tr>\n",
       "      <th>freq</th>\n",
       "      <td>619</td>\n",
       "      <td>1093</td>\n",
       "    </tr>\n",
       "  </tbody>\n",
       "</table>\n",
       "</div>"
      ],
      "text/plain": [
       "       english_sentence hindi_sentence\n",
       "count           1780675        1780675\n",
       "unique          1129342        1007644\n",
       "top            Laughter           Name\n",
       "freq                619           1093"
      ]
     },
     "execution_count": 11,
     "metadata": {},
     "output_type": "execute_result"
    }
   ],
   "source": [
    "df.describe()"
   ]
  },
  {
   "cell_type": "code",
   "execution_count": 12,
   "id": "87c24aff",
   "metadata": {},
   "outputs": [
    {
     "name": "stdout",
     "output_type": "stream",
     "text": [
      "Cleaned dataframe: 0 rows removed due to non-string entries.\n"
     ]
    }
   ],
   "source": [
    "def clean_dataframe(df, src_col=\"english_sentence\", tgt_col=\"hindi_sentence\"):\n",
    "    mask = df[src_col].apply(lambda x: isinstance(x, str)) & df[tgt_col].apply(lambda x: isinstance(x, str))\n",
    "    cleaned_df = df[mask].copy().reset_index(drop=True)\n",
    "    print(f\"Cleaned dataframe: {len(df) - len(cleaned_df)} rows removed due to non-string entries.\")\n",
    "    return cleaned_df\n",
    "\n",
    "df = clean_dataframe(df).reset_index(drop=True)\n"
   ]
  },
  {
   "cell_type": "code",
   "execution_count": 13,
   "id": "e92d3541",
   "metadata": {},
   "outputs": [
    {
     "data": {
      "image/png": "[encoded data removed]",
      "text/plain": [
       "<Figure size 1200x600 with 1 Axes>"
      ]
     },
     "metadata": {},
     "output_type": "display_data"
    }
   ],
   "source": [
    "en_lengths = df['english_sentence'].apply(lambda x: len(x.split()))\n",
    "hi_lengths = df['hindi_sentence'].apply(lambda x: len(x.split()))\n",
    "\n",
    "plt.figure(figsize=(12, 6))\n",
    "plt.hist(en_lengths, bins=50, alpha=0.7, label='English Sentences')\n",
    "plt.hist(hi_lengths, bins=50, alpha=0.7, label='Hindi Sentences')\n",
    "plt.xlabel('Sentence Length (Number of Words)')\n",
    "plt.ylabel('Frequency')\n",
    "plt.legend()\n",
    "plt.title('Distribution of Sentence Lengths in English and Hindi')\n",
    "plt.show()\n"
   ]
  },
  {
   "cell_type": "code",
   "execution_count": 14,
   "id": "b540864f",
   "metadata": {},
   "outputs": [],
   "source": [
    "df = df.sample(frac=0.1, random_state=42).reset_index(drop=True)"
   ]
  },
  {
   "cell_type": "code",
   "execution_count": 15,
   "id": "c35bdb77",
   "metadata": {},
   "outputs": [
    {
     "name": "stdout",
     "output_type": "stream",
     "text": [
      "\n",
      "\n",
      "\n",
      "\n",
      "\n",
      "\n"
     ]
    }
   ],
   "source": [
    "english_data = df['english_sentence'].tolist()\n",
    "hindi_data = df['hindi_sentence'].tolist()\n",
    "\n",
    "en_tokenizer = Tokenizer(models.BPE(unk_token=\"[UNK]\"))\n",
    "en_tokenizer.pre_tokenizer = pre_tokenizers.Whitespace()\n",
    "\n",
    "hi_tokenizer = Tokenizer(models.BPE(unk_token=\"[UNK]\"))\n",
    "hi_tokenizer.pre_tokenizer = pre_tokenizers.Whitespace()\n",
    "\n",
    "special_tokens = [\"[PAD]\", \"[UNK]\", \"[SOS]\", \"[EOS]\"]\n",
    "\n",
    "en_trainer = trainers.BpeTrainer(vocab_size=50000, min_frequency=2, show_progress=True, special_tokens=special_tokens)\n",
    "\n",
    "hi_trainer = trainers.BpeTrainer(vocab_size=50000, min_frequency=2, show_progress=True, special_tokens=special_tokens)\n",
    "\n",
    "en_tokenizer.train_from_iterator(english_data, trainer=en_trainer)\n",
    "\n",
    "hi_tokenizer.train_from_iterator(hindi_data, trainer=hi_trainer)\n",
    "\n",
    "en_tokenizer.save(\"custom_en_tokenizer.json\")  \n",
    "hi_tokenizer.save(\"custom_hi_tokenizer.json\") "
   ]
  },
  {
   "cell_type": "code",
   "execution_count": 16,
   "id": "7fdd8a4d",
   "metadata": {},
   "outputs": [
    {
     "data": {
      "text/plain": [
       "Index(['english_sentence', 'hindi_sentence'], dtype='object')"
      ]
     },
     "execution_count": 16,
     "metadata": {},
     "output_type": "execute_result"
    }
   ],
   "source": [
    "df.columns"
   ]
  },
  {
   "cell_type": "code",
   "execution_count": 17,
   "id": "ab4ca9e9",
   "metadata": {},
   "outputs": [
    {
     "name": "stdout",
     "output_type": "stream",
     "text": [
      "Max length for English: 384\n",
      "Max length for Hindi: 420\n"
     ]
    }
   ],
   "source": [
    "def get_max_length(data, tokenizer):\n",
    "    max_len = 0\n",
    "    for sentence in data:\n",
    "        encoded = tokenizer.encode(sentence)\n",
    "        max_len = max(max_len, len(encoded.ids)) \n",
    "    return max_len\n",
    "\n",
    "max_len_en = get_max_length(english_data, en_tokenizer)\n",
    "print(f\"Max length for English: {max_len_en}\")\n",
    "\n",
    "max_len_hi = get_max_length(hindi_data, hi_tokenizer)\n",
    "print(f\"Max length for Hindi: {max_len_hi}\")\n"
   ]
  },
  {
   "cell_type": "code",
   "execution_count": 18,
   "id": "bb16b252",
   "metadata": {},
   "outputs": [
    {
     "data": {
      "text/plain": [
       "english_sentence    0\n",
       "hindi_sentence      0\n",
       "dtype: int64"
      ]
     },
     "execution_count": 18,
     "metadata": {},
     "output_type": "execute_result"
    }
   ],
   "source": [
    "df.isna().sum()"
   ]
  },
  {
   "cell_type": "code",
   "execution_count": 19,
   "id": "a3632f0e",
   "metadata": {},
   "outputs": [],
   "source": [
    "df.to_csv('/home/careinfolab/Dr_Luo/Rohan/Linear_Attention/Dataset/eng_hindi_cleaned.csv', index=False)"
   ]
  },
  {
   "cell_type": "code",
   "execution_count": null,
   "id": "05696968",
   "metadata": {},
   "outputs": [],
   "source": []
  }
 ],
 "metadata": {
  "kernelspec": {
   "display_name": "rohanj",
   "language": "python",
   "name": "python3"
  },
  "language_info": {
   "codemirror_mode": {
    "name": "ipython",
    "version": 3
   },
   "file_extension": ".py",
   "mimetype": "text/x-python",
   "name": "python",
   "nbconvert_exporter": "python",
   "pygments_lexer": "ipython3",
   "version": "3.8.10"
  }
 },
 "nbformat": 4,
 "nbformat_minor": 5
}
